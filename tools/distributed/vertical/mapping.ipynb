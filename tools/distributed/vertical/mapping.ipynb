{
 "cells": [
  {
   "cell_type": "code",
   "execution_count": 5,
   "id": "bb006550",
   "metadata": {},
   "outputs": [],
   "source": [
    "# -*- coding: UTF-8 -*- \n",
    "import onnx\n",
    "from onnx import helper, checker\n",
    "from onnx import TensorProto\n",
    "import re\n",
    "import argparse\n",
    "import json,copy\n",
    "import numpy as np\n",
    "from data_json import *\n",
    "from onnx_split import *"
   ]
  },
  {
   "cell_type": "code",
   "execution_count": 52,
   "id": "89f5ec81",
   "metadata": {},
   "outputs": [],
   "source": [
    "origin_model = '/home/sky/Downloads/models/densenet/densenet-7.onnx'\n",
    "#origin_model = '/home/sky/Downloads/models/alexnet/bvlcalexnet-9.onnx'\n",
    "platform_file = './4platform.txt'\n",
    "nodes_number = 2\n"
   ]
  },
  {
   "cell_type": "code",
   "execution_count": 53,
   "id": "e743aec4",
   "metadata": {},
   "outputs": [],
   "source": [
    "model = onnx.load(origin_model)\n",
    "model = onnx.shape_inference.infer_shapes(model)\n",
    "graph = model.graph\n"
   ]
  },
  {
   "cell_type": "code",
   "execution_count": 50,
   "id": "e03c65c4",
   "metadata": {},
   "outputs": [],
   "source": [
    "for input_i in range(len(graph.node[4].input)):\n",
    "    graph.node[i].input[input_i] = graph.node[i].input[input_i].replace('/','_')"
   ]
  },
  {
   "cell_type": "code",
   "execution_count": 55,
   "id": "74d8e382",
   "metadata": {},
   "outputs": [
    {
     "name": "stdout",
     "output_type": "stream",
     "text": [
      "name: \"conv1_w_0\"\n",
      "type {\n",
      "  tensor_type {\n",
      "    elem_type: 1\n",
      "    shape {\n",
      "      dim {\n",
      "        dim_value: 64\n",
      "      }\n",
      "      dim {\n",
      "        dim_value: 3\n",
      "      }\n",
      "      dim {\n",
      "        dim_value: 7\n",
      "      }\n",
      "      dim {\n",
      "        dim_value: 7\n",
      "      }\n",
      "    }\n",
      "  }\n",
      "}\n",
      "\n"
     ]
    }
   ],
   "source": [
    "print (graph.input[0])"
   ]
  },
  {
   "cell_type": "code",
   "execution_count": 57,
   "id": "a5f3afce",
   "metadata": {},
   "outputs": [
    {
     "name": "stdout",
     "output_type": "stream",
     "text": [
      "Check input model Errors:  None\n",
      "newdensenet-7.onnx  saved\n"
     ]
    }
   ],
   "source": [
    "for init_i in range(len(graph.initializer)):\n",
    "        graph.initializer[init_i].name = graph.initializer[init_i].name.replace('/','_')\n",
    "for i in range(len(graph.input)):\n",
    "    graph.input[i].name = graph.input[i].name.replace('/','_')\n",
    "for i in range(len(graph.output)):\n",
    "    graph.output[i].name = graph.output[i].name.replace('/','_')\n",
    "        \n",
    "        \n",
    "for i in range(len(graph.node)):\n",
    "    graph.node[i].name = str(graph.node[i].output[0]).replace('/','_')\n",
    "    for input_i in range(len(graph.node[i].input)):\n",
    "        graph.node[i].input[input_i] = (graph.node[i].input[input_i]).replace('/','_')\n",
    "    for output_i in range(len(graph.node[i].output)):\n",
    "        graph.node[i].output[output_i] = graph.node[i].output[output_i].replace('/','_')\n",
    "print(\"Check input model Errors: \", onnx.checker.check_model(model))\n",
    "model_name = 'new'+origin_model.split('/')[-1]\n",
    "print (model_name, \" saved\")\n",
    "onnx.save(model, model_name)   "
   ]
  },
  {
   "cell_type": "code",
   "execution_count": 58,
   "id": "2147ef44",
   "metadata": {},
   "outputs": [
    {
     "name": "stdout",
     "output_type": "stream",
     "text": [
      "Check input model Errors:  None\n",
      "platform dict:  {'nx01': 0, 'nx02': 1, 'nx03': 2, 'nx04': 3}\n"
     ]
    }
   ],
   "source": [
    "graph = load_onnx(model_name)\n",
    "input_map = generate_node_dict(graph.input)  \n",
    "output_map = generate_node_dict(graph.output)\n",
    "initializer_map = generate_node_dict(graph.initializer)\n",
    "value_map = generate_node_dict(graph.value_info)       \n",
    "node_map = generate_node_dict(graph.node)\n",
    "with open(platform_file, 'r') as f:         \n",
    "        platform = f.readlines()\n",
    "        #print (platform)\n",
    "        for i in range(len(platform)):\n",
    "            temp = platform[i].split(':')[0]\n",
    "            platform[i] = temp.replace('\\n','')\n",
    "#print (platform)\n",
    "platform_num = len(platform)\n",
    "\n",
    "platform_dict={} \n",
    "######platform 对应id\n",
    "for i in range(platform_num):\n",
    "    platform_dict[platform[i]] = i\n",
    "    \n",
    "print (\"platform dict: \", platform_dict)\n",
    "node_len = len(list(node_map))\n",
    "mapping_dict ={}\n"
   ]
  },
  {
   "cell_type": "code",
   "execution_count": 59,
   "id": "b60f1163",
   "metadata": {},
   "outputs": [
    {
     "name": "stdout",
     "output_type": "stream",
     "text": [
      "\n",
      "{'nx01': ['conv1_1', 'conv1_bn_1', 'OC2_DUMMY_0', 'conv1_bn_internal_1', 'OC2_DUMMY_1', 'conv1_bn_2', 'conv1_bn_3', 'pool1_1', 'conv2_1_x1_bn_1', 'OC2_DUMMY_2', 'conv2_1_x1_bn_internal_1', 'OC2_DUMMY_3', 'conv2_1_x1_bn_2', 'conv2_1_x1_bn_3', 'conv2_1_x1_1', 'conv2_1_x2_bn_1', 'OC2_DUMMY_4', 'conv2_1_x2_bn_internal_1', 'OC2_DUMMY_5', 'conv2_1_x2_bn_2', 'conv2_1_x2_bn_3', 'conv2_1_x2_1', 'concat_2_1_1', 'conv2_2_x1_bn_1', 'OC2_DUMMY_6', 'conv2_2_x1_bn_internal_1', 'OC2_DUMMY_7', 'conv2_2_x1_bn_2', 'conv2_2_x1_bn_3', 'conv2_2_x1_1', 'conv2_2_x2_bn_1', 'OC2_DUMMY_8', 'conv2_2_x2_bn_internal_1', 'OC2_DUMMY_9', 'conv2_2_x2_bn_2', 'conv2_2_x2_bn_3', 'conv2_2_x2_1', 'concat_2_2_1', 'conv2_3_x1_bn_1', 'OC2_DUMMY_10', 'conv2_3_x1_bn_internal_1', 'OC2_DUMMY_11', 'conv2_3_x1_bn_2', 'conv2_3_x1_bn_3', 'conv2_3_x1_1', 'conv2_3_x2_bn_1', 'OC2_DUMMY_12', 'conv2_3_x2_bn_internal_1', 'OC2_DUMMY_13', 'conv2_3_x2_bn_2', 'conv2_3_x2_bn_3', 'conv2_3_x2_1', 'concat_2_3_1', 'conv2_4_x1_bn_1', 'OC2_DUMMY_14', 'conv2_4_x1_bn_internal_1', 'OC2_DUMMY_15', 'conv2_4_x1_bn_2', 'conv2_4_x1_bn_3', 'conv2_4_x1_1', 'conv2_4_x2_bn_1', 'OC2_DUMMY_16', 'conv2_4_x2_bn_internal_1', 'OC2_DUMMY_17', 'conv2_4_x2_bn_2', 'conv2_4_x2_bn_3', 'conv2_4_x2_1', 'concat_2_4_1', 'conv2_5_x1_bn_1', 'OC2_DUMMY_18', 'conv2_5_x1_bn_internal_1', 'OC2_DUMMY_19', 'conv2_5_x1_bn_2', 'conv2_5_x1_bn_3', 'conv2_5_x1_1', 'conv2_5_x2_bn_1', 'OC2_DUMMY_20', 'conv2_5_x2_bn_internal_1', 'OC2_DUMMY_21', 'conv2_5_x2_bn_2', 'conv2_5_x2_bn_3', 'conv2_5_x2_1', 'concat_2_5_1', 'conv2_6_x1_bn_1', 'OC2_DUMMY_22', 'conv2_6_x1_bn_internal_1', 'OC2_DUMMY_23', 'conv2_6_x1_bn_2', 'conv2_6_x1_bn_3', 'conv2_6_x1_1', 'conv2_6_x2_bn_1', 'OC2_DUMMY_24', 'conv2_6_x2_bn_internal_1', 'OC2_DUMMY_25', 'conv2_6_x2_bn_2', 'conv2_6_x2_bn_3', 'conv2_6_x2_1', 'concat_2_6_1', 'conv2_blk_bn_1', 'OC2_DUMMY_26', 'conv2_blk_bn_internal_1', 'OC2_DUMMY_27', 'conv2_blk_bn_2', 'conv2_blk_bn_3', 'conv2_blk_1', 'pool2_1', 'conv3_1_x1_bn_1', 'OC2_DUMMY_28', 'conv3_1_x1_bn_internal_1', 'OC2_DUMMY_29', 'conv3_1_x1_bn_2', 'conv3_1_x1_bn_3', 'conv3_1_x1_1', 'conv3_1_x2_bn_1', 'OC2_DUMMY_30', 'conv3_1_x2_bn_internal_1', 'OC2_DUMMY_31', 'conv3_1_x2_bn_2', 'conv3_1_x2_bn_3', 'conv3_1_x2_1', 'concat_3_1_1', 'conv3_2_x1_bn_1', 'OC2_DUMMY_32', 'conv3_2_x1_bn_internal_1', 'OC2_DUMMY_33', 'conv3_2_x1_bn_2', 'conv3_2_x1_bn_3', 'conv3_2_x1_1', 'conv3_2_x2_bn_1', 'OC2_DUMMY_34', 'conv3_2_x2_bn_internal_1', 'OC2_DUMMY_35', 'conv3_2_x2_bn_2', 'conv3_2_x2_bn_3', 'conv3_2_x2_1', 'concat_3_2_1', 'conv3_3_x1_bn_1', 'OC2_DUMMY_36', 'conv3_3_x1_bn_internal_1', 'OC2_DUMMY_37', 'conv3_3_x1_bn_2', 'conv3_3_x1_bn_3', 'conv3_3_x1_1', 'conv3_3_x2_bn_1', 'OC2_DUMMY_38', 'conv3_3_x2_bn_internal_1', 'OC2_DUMMY_39', 'conv3_3_x2_bn_2', 'conv3_3_x2_bn_3', 'conv3_3_x2_1', 'concat_3_3_1', 'conv3_4_x1_bn_1', 'OC2_DUMMY_40', 'conv3_4_x1_bn_internal_1', 'OC2_DUMMY_41', 'conv3_4_x1_bn_2', 'conv3_4_x1_bn_3', 'conv3_4_x1_1', 'conv3_4_x2_bn_1', 'OC2_DUMMY_42', 'conv3_4_x2_bn_internal_1', 'OC2_DUMMY_43', 'conv3_4_x2_bn_2', 'conv3_4_x2_bn_3', 'conv3_4_x2_1', 'concat_3_4_1', 'conv3_5_x1_bn_1', 'OC2_DUMMY_44', 'conv3_5_x1_bn_internal_1', 'OC2_DUMMY_45', 'conv3_5_x1_bn_2', 'conv3_5_x1_bn_3', 'conv3_5_x1_1', 'conv3_5_x2_bn_1', 'OC2_DUMMY_46', 'conv3_5_x2_bn_internal_1', 'OC2_DUMMY_47', 'conv3_5_x2_bn_2', 'conv3_5_x2_bn_3', 'conv3_5_x2_1', 'concat_3_5_1', 'conv3_6_x1_bn_1', 'OC2_DUMMY_48', 'conv3_6_x1_bn_internal_1', 'OC2_DUMMY_49', 'conv3_6_x1_bn_2', 'conv3_6_x1_bn_3', 'conv3_6_x1_1', 'conv3_6_x2_bn_1', 'OC2_DUMMY_50', 'conv3_6_x2_bn_internal_1', 'OC2_DUMMY_51', 'conv3_6_x2_bn_2', 'conv3_6_x2_bn_3', 'conv3_6_x2_1', 'concat_3_6_1', 'conv3_7_x1_bn_1', 'OC2_DUMMY_52', 'conv3_7_x1_bn_internal_1', 'OC2_DUMMY_53', 'conv3_7_x1_bn_2', 'conv3_7_x1_bn_3', 'conv3_7_x1_1', 'conv3_7_x2_bn_1', 'OC2_DUMMY_54', 'conv3_7_x2_bn_internal_1', 'OC2_DUMMY_55', 'conv3_7_x2_bn_2', 'conv3_7_x2_bn_3', 'conv3_7_x2_1', 'concat_3_7_1', 'conv3_8_x1_bn_1', 'OC2_DUMMY_56', 'conv3_8_x1_bn_internal_1', 'OC2_DUMMY_57', 'conv3_8_x1_bn_2', 'conv3_8_x1_bn_3', 'conv3_8_x1_1', 'conv3_8_x2_bn_1', 'OC2_DUMMY_58', 'conv3_8_x2_bn_internal_1', 'OC2_DUMMY_59', 'conv3_8_x2_bn_2', 'conv3_8_x2_bn_3', 'conv3_8_x2_1', 'concat_3_8_1', 'conv3_9_x1_bn_1', 'OC2_DUMMY_60', 'conv3_9_x1_bn_internal_1', 'OC2_DUMMY_61', 'conv3_9_x1_bn_2', 'conv3_9_x1_bn_3', 'conv3_9_x1_1', 'conv3_9_x2_bn_1', 'OC2_DUMMY_62', 'conv3_9_x2_bn_internal_1', 'OC2_DUMMY_63', 'conv3_9_x2_bn_2', 'conv3_9_x2_bn_3', 'conv3_9_x2_1', 'concat_3_9_1', 'conv3_10_x1_bn_1', 'OC2_DUMMY_64', 'conv3_10_x1_bn_internal_1', 'OC2_DUMMY_65', 'conv3_10_x1_bn_2', 'conv3_10_x1_bn_3', 'conv3_10_x1_1', 'conv3_10_x2_bn_1', 'OC2_DUMMY_66', 'conv3_10_x2_bn_internal_1', 'OC2_DUMMY_67', 'conv3_10_x2_bn_2', 'conv3_10_x2_bn_3', 'conv3_10_x2_1', 'concat_3_10_1', 'conv3_11_x1_bn_1', 'OC2_DUMMY_68', 'conv3_11_x1_bn_internal_1', 'OC2_DUMMY_69', 'conv3_11_x1_bn_2', 'conv3_11_x1_bn_3', 'conv3_11_x1_1', 'conv3_11_x2_bn_1', 'OC2_DUMMY_70', 'conv3_11_x2_bn_internal_1', 'OC2_DUMMY_71', 'conv3_11_x2_bn_2', 'conv3_11_x2_bn_3', 'conv3_11_x2_1', 'concat_3_11_1', 'conv3_12_x1_bn_1', 'OC2_DUMMY_72', 'conv3_12_x1_bn_internal_1', 'OC2_DUMMY_73', 'conv3_12_x1_bn_2', 'conv3_12_x1_bn_3', 'conv3_12_x1_1', 'conv3_12_x2_bn_1', 'OC2_DUMMY_74', 'conv3_12_x2_bn_internal_1', 'OC2_DUMMY_75', 'conv3_12_x2_bn_2', 'conv3_12_x2_bn_3', 'conv3_12_x2_1', 'concat_3_12_1', 'conv3_blk_bn_1', 'OC2_DUMMY_76', 'conv3_blk_bn_internal_1', 'OC2_DUMMY_77', 'conv3_blk_bn_2', 'conv3_blk_bn_3', 'conv3_blk_1', 'pool3_1', 'conv4_1_x1_bn_1', 'OC2_DUMMY_78', 'conv4_1_x1_bn_internal_1', 'OC2_DUMMY_79', 'conv4_1_x1_bn_2', 'conv4_1_x1_bn_3', 'conv4_1_x1_1', 'conv4_1_x2_bn_1', 'OC2_DUMMY_80', 'conv4_1_x2_bn_internal_1', 'OC2_DUMMY_81', 'conv4_1_x2_bn_2', 'conv4_1_x2_bn_3', 'conv4_1_x2_1', 'concat_4_1_1', 'conv4_2_x1_bn_1', 'OC2_DUMMY_82', 'conv4_2_x1_bn_internal_1', 'OC2_DUMMY_83', 'conv4_2_x1_bn_2', 'conv4_2_x1_bn_3', 'conv4_2_x1_1', 'conv4_2_x2_bn_1', 'OC2_DUMMY_84', 'conv4_2_x2_bn_internal_1', 'OC2_DUMMY_85', 'conv4_2_x2_bn_2', 'conv4_2_x2_bn_3', 'conv4_2_x2_1', 'concat_4_2_1', 'conv4_3_x1_bn_1', 'OC2_DUMMY_86', 'conv4_3_x1_bn_internal_1', 'OC2_DUMMY_87', 'conv4_3_x1_bn_2', 'conv4_3_x1_bn_3', 'conv4_3_x1_1', 'conv4_3_x2_bn_1', 'OC2_DUMMY_88', 'conv4_3_x2_bn_internal_1', 'OC2_DUMMY_89', 'conv4_3_x2_bn_2', 'conv4_3_x2_bn_3', 'conv4_3_x2_1', 'concat_4_3_1', 'conv4_4_x1_bn_1', 'OC2_DUMMY_90', 'conv4_4_x1_bn_internal_1', 'OC2_DUMMY_91', 'conv4_4_x1_bn_2', 'conv4_4_x1_bn_3', 'conv4_4_x1_1', 'conv4_4_x2_bn_1', 'OC2_DUMMY_92', 'conv4_4_x2_bn_internal_1', 'OC2_DUMMY_93', 'conv4_4_x2_bn_2', 'conv4_4_x2_bn_3', 'conv4_4_x2_1', 'concat_4_4_1', 'conv4_5_x1_bn_1', 'OC2_DUMMY_94', 'conv4_5_x1_bn_internal_1', 'OC2_DUMMY_95', 'conv4_5_x1_bn_2', 'conv4_5_x1_bn_3', 'conv4_5_x1_1', 'conv4_5_x2_bn_1', 'OC2_DUMMY_96', 'conv4_5_x2_bn_internal_1', 'OC2_DUMMY_97', 'conv4_5_x2_bn_2', 'conv4_5_x2_bn_3', 'conv4_5_x2_1', 'concat_4_5_1', 'conv4_6_x1_bn_1', 'OC2_DUMMY_98', 'conv4_6_x1_bn_internal_1', 'OC2_DUMMY_99', 'conv4_6_x1_bn_2', 'conv4_6_x1_bn_3', 'conv4_6_x1_1', 'conv4_6_x2_bn_1', 'OC2_DUMMY_100', 'conv4_6_x2_bn_internal_1', 'OC2_DUMMY_101', 'conv4_6_x2_bn_2', 'conv4_6_x2_bn_3', 'conv4_6_x2_1', 'concat_4_6_1', 'conv4_7_x1_bn_1', 'OC2_DUMMY_102', 'conv4_7_x1_bn_internal_1', 'OC2_DUMMY_103', 'conv4_7_x1_bn_2', 'conv4_7_x1_bn_3', 'conv4_7_x1_1', 'conv4_7_x2_bn_1', 'OC2_DUMMY_104', 'conv4_7_x2_bn_internal_1', 'OC2_DUMMY_105', 'conv4_7_x2_bn_2', 'conv4_7_x2_bn_3', 'conv4_7_x2_1', 'concat_4_7_1', 'conv4_8_x1_bn_1', 'OC2_DUMMY_106', 'conv4_8_x1_bn_internal_1', 'OC2_DUMMY_107', 'conv4_8_x1_bn_2', 'conv4_8_x1_bn_3', 'conv4_8_x1_1', 'conv4_8_x2_bn_1', 'OC2_DUMMY_108', 'conv4_8_x2_bn_internal_1', 'OC2_DUMMY_109', 'conv4_8_x2_bn_2', 'conv4_8_x2_bn_3', 'conv4_8_x2_1', 'concat_4_8_1', 'conv4_9_x1_bn_1', 'OC2_DUMMY_110', 'conv4_9_x1_bn_internal_1', 'OC2_DUMMY_111', 'conv4_9_x1_bn_2', 'conv4_9_x1_bn_3', 'conv4_9_x1_1', 'conv4_9_x2_bn_1', 'OC2_DUMMY_112', 'conv4_9_x2_bn_internal_1', 'OC2_DUMMY_113', 'conv4_9_x2_bn_2', 'conv4_9_x2_bn_3', 'conv4_9_x2_1', 'concat_4_9_1', 'conv4_10_x1_bn_1', 'OC2_DUMMY_114', 'conv4_10_x1_bn_internal_1', 'OC2_DUMMY_115', 'conv4_10_x1_bn_2', 'conv4_10_x1_bn_3', 'conv4_10_x1_1', 'conv4_10_x2_bn_1', 'OC2_DUMMY_116', 'conv4_10_x2_bn_internal_1', 'OC2_DUMMY_117', 'conv4_10_x2_bn_2', 'conv4_10_x2_bn_3', 'conv4_10_x2_1', 'concat_4_10_1', 'conv4_11_x1_bn_1', 'OC2_DUMMY_118', 'conv4_11_x1_bn_internal_1', 'OC2_DUMMY_119', 'conv4_11_x1_bn_2', 'conv4_11_x1_bn_3', 'conv4_11_x1_1', 'conv4_11_x2_bn_1', 'OC2_DUMMY_120', 'conv4_11_x2_bn_internal_1', 'OC2_DUMMY_121', 'conv4_11_x2_bn_2'], 'nx02': ['conv4_11_x2_bn_3', 'conv4_11_x2_1', 'concat_4_11_1', 'conv4_12_x1_bn_1', 'OC2_DUMMY_122', 'conv4_12_x1_bn_internal_1', 'OC2_DUMMY_123', 'conv4_12_x1_bn_2', 'conv4_12_x1_bn_3', 'conv4_12_x1_1', 'conv4_12_x2_bn_1', 'OC2_DUMMY_124', 'conv4_12_x2_bn_internal_1', 'OC2_DUMMY_125', 'conv4_12_x2_bn_2', 'conv4_12_x2_bn_3', 'conv4_12_x2_1', 'concat_4_12_1', 'conv4_13_x1_bn_1', 'OC2_DUMMY_126', 'conv4_13_x1_bn_internal_1', 'OC2_DUMMY_127', 'conv4_13_x1_bn_2', 'conv4_13_x1_bn_3', 'conv4_13_x1_1', 'conv4_13_x2_bn_1', 'OC2_DUMMY_128', 'conv4_13_x2_bn_internal_1', 'OC2_DUMMY_129', 'conv4_13_x2_bn_2', 'conv4_13_x2_bn_3', 'conv4_13_x2_1', 'concat_4_13_1', 'conv4_14_x1_bn_1', 'OC2_DUMMY_130', 'conv4_14_x1_bn_internal_1', 'OC2_DUMMY_131', 'conv4_14_x1_bn_2', 'conv4_14_x1_bn_3', 'conv4_14_x1_1', 'conv4_14_x2_bn_1', 'OC2_DUMMY_132', 'conv4_14_x2_bn_internal_1', 'OC2_DUMMY_133', 'conv4_14_x2_bn_2', 'conv4_14_x2_bn_3', 'conv4_14_x2_1', 'concat_4_14_1', 'conv4_15_x1_bn_1', 'OC2_DUMMY_134', 'conv4_15_x1_bn_internal_1', 'OC2_DUMMY_135', 'conv4_15_x1_bn_2', 'conv4_15_x1_bn_3', 'conv4_15_x1_1', 'conv4_15_x2_bn_1', 'OC2_DUMMY_136', 'conv4_15_x2_bn_internal_1', 'OC2_DUMMY_137', 'conv4_15_x2_bn_2', 'conv4_15_x2_bn_3', 'conv4_15_x2_1', 'concat_4_15_1', 'conv4_16_x1_bn_1', 'OC2_DUMMY_138', 'conv4_16_x1_bn_internal_1', 'OC2_DUMMY_139', 'conv4_16_x1_bn_2', 'conv4_16_x1_bn_3', 'conv4_16_x1_1', 'conv4_16_x2_bn_1', 'OC2_DUMMY_140', 'conv4_16_x2_bn_internal_1', 'OC2_DUMMY_141', 'conv4_16_x2_bn_2', 'conv4_16_x2_bn_3', 'conv4_16_x2_1', 'concat_4_16_1', 'conv4_17_x1_bn_1', 'OC2_DUMMY_142', 'conv4_17_x1_bn_internal_1', 'OC2_DUMMY_143', 'conv4_17_x1_bn_2', 'conv4_17_x1_bn_3', 'conv4_17_x1_1', 'conv4_17_x2_bn_1', 'OC2_DUMMY_144', 'conv4_17_x2_bn_internal_1', 'OC2_DUMMY_145', 'conv4_17_x2_bn_2', 'conv4_17_x2_bn_3', 'conv4_17_x2_1', 'concat_4_17_1', 'conv4_18_x1_bn_1', 'OC2_DUMMY_146', 'conv4_18_x1_bn_internal_1', 'OC2_DUMMY_147', 'conv4_18_x1_bn_2', 'conv4_18_x1_bn_3', 'conv4_18_x1_1', 'conv4_18_x2_bn_1', 'OC2_DUMMY_148', 'conv4_18_x2_bn_internal_1', 'OC2_DUMMY_149', 'conv4_18_x2_bn_2', 'conv4_18_x2_bn_3', 'conv4_18_x2_1', 'concat_4_18_1', 'conv4_19_x1_bn_1', 'OC2_DUMMY_150', 'conv4_19_x1_bn_internal_1', 'OC2_DUMMY_151', 'conv4_19_x1_bn_2', 'conv4_19_x1_bn_3', 'conv4_19_x1_1', 'conv4_19_x2_bn_1', 'OC2_DUMMY_152', 'conv4_19_x2_bn_internal_1', 'OC2_DUMMY_153', 'conv4_19_x2_bn_2', 'conv4_19_x2_bn_3', 'conv4_19_x2_1', 'concat_4_19_1', 'conv4_20_x1_bn_1', 'OC2_DUMMY_154', 'conv4_20_x1_bn_internal_1', 'OC2_DUMMY_155', 'conv4_20_x1_bn_2', 'conv4_20_x1_bn_3', 'conv4_20_x1_1', 'conv4_20_x2_bn_1', 'OC2_DUMMY_156', 'conv4_20_x2_bn_internal_1', 'OC2_DUMMY_157', 'conv4_20_x2_bn_2', 'conv4_20_x2_bn_3', 'conv4_20_x2_1', 'concat_4_20_1', 'conv4_21_x1_bn_1', 'OC2_DUMMY_158', 'conv4_21_x1_bn_internal_1', 'OC2_DUMMY_159', 'conv4_21_x1_bn_2', 'conv4_21_x1_bn_3', 'conv4_21_x1_1', 'conv4_21_x2_bn_1', 'OC2_DUMMY_160', 'conv4_21_x2_bn_internal_1', 'OC2_DUMMY_161', 'conv4_21_x2_bn_2', 'conv4_21_x2_bn_3', 'conv4_21_x2_1', 'concat_4_21_1', 'conv4_22_x1_bn_1', 'OC2_DUMMY_162', 'conv4_22_x1_bn_internal_1', 'OC2_DUMMY_163', 'conv4_22_x1_bn_2', 'conv4_22_x1_bn_3', 'conv4_22_x1_1', 'conv4_22_x2_bn_1', 'OC2_DUMMY_164', 'conv4_22_x2_bn_internal_1', 'OC2_DUMMY_165', 'conv4_22_x2_bn_2', 'conv4_22_x2_bn_3', 'conv4_22_x2_1', 'concat_4_22_1', 'conv4_23_x1_bn_1', 'OC2_DUMMY_166', 'conv4_23_x1_bn_internal_1', 'OC2_DUMMY_167', 'conv4_23_x1_bn_2', 'conv4_23_x1_bn_3', 'conv4_23_x1_1', 'conv4_23_x2_bn_1', 'OC2_DUMMY_168', 'conv4_23_x2_bn_internal_1', 'OC2_DUMMY_169', 'conv4_23_x2_bn_2', 'conv4_23_x2_bn_3', 'conv4_23_x2_1', 'concat_4_23_1', 'conv4_24_x1_bn_1', 'OC2_DUMMY_170', 'conv4_24_x1_bn_internal_1', 'OC2_DUMMY_171', 'conv4_24_x1_bn_2', 'conv4_24_x1_bn_3', 'conv4_24_x1_1', 'conv4_24_x2_bn_1', 'OC2_DUMMY_172', 'conv4_24_x2_bn_internal_1', 'OC2_DUMMY_173', 'conv4_24_x2_bn_2', 'conv4_24_x2_bn_3', 'conv4_24_x2_1', 'concat_4_24_1', 'conv4_blk_bn_1', 'OC2_DUMMY_174', 'conv4_blk_bn_internal_1', 'OC2_DUMMY_175', 'conv4_blk_bn_2', 'conv4_blk_bn_3', 'conv4_blk_1', 'pool4_1', 'conv5_1_x1_bn_1', 'OC2_DUMMY_176', 'conv5_1_x1_bn_internal_1', 'OC2_DUMMY_177', 'conv5_1_x1_bn_2', 'conv5_1_x1_bn_3', 'conv5_1_x1_1', 'conv5_1_x2_bn_1', 'OC2_DUMMY_178', 'conv5_1_x2_bn_internal_1', 'OC2_DUMMY_179', 'conv5_1_x2_bn_2', 'conv5_1_x2_bn_3', 'conv5_1_x2_1', 'concat_5_1_1', 'conv5_2_x1_bn_1', 'OC2_DUMMY_180', 'conv5_2_x1_bn_internal_1', 'OC2_DUMMY_181', 'conv5_2_x1_bn_2', 'conv5_2_x1_bn_3', 'conv5_2_x1_1', 'conv5_2_x2_bn_1', 'OC2_DUMMY_182', 'conv5_2_x2_bn_internal_1', 'OC2_DUMMY_183', 'conv5_2_x2_bn_2', 'conv5_2_x2_bn_3', 'conv5_2_x2_1', 'concat_5_2_1', 'conv5_3_x1_bn_1', 'OC2_DUMMY_184', 'conv5_3_x1_bn_internal_1', 'OC2_DUMMY_185', 'conv5_3_x1_bn_2', 'conv5_3_x1_bn_3', 'conv5_3_x1_1', 'conv5_3_x2_bn_1', 'OC2_DUMMY_186', 'conv5_3_x2_bn_internal_1', 'OC2_DUMMY_187', 'conv5_3_x2_bn_2', 'conv5_3_x2_bn_3', 'conv5_3_x2_1', 'concat_5_3_1', 'conv5_4_x1_bn_1', 'OC2_DUMMY_188', 'conv5_4_x1_bn_internal_1', 'OC2_DUMMY_189', 'conv5_4_x1_bn_2', 'conv5_4_x1_bn_3', 'conv5_4_x1_1', 'conv5_4_x2_bn_1', 'OC2_DUMMY_190', 'conv5_4_x2_bn_internal_1', 'OC2_DUMMY_191', 'conv5_4_x2_bn_2', 'conv5_4_x2_bn_3', 'conv5_4_x2_1', 'concat_5_4_1', 'conv5_5_x1_bn_1', 'OC2_DUMMY_192', 'conv5_5_x1_bn_internal_1', 'OC2_DUMMY_193', 'conv5_5_x1_bn_2', 'conv5_5_x1_bn_3', 'conv5_5_x1_1', 'conv5_5_x2_bn_1', 'OC2_DUMMY_194', 'conv5_5_x2_bn_internal_1', 'OC2_DUMMY_195', 'conv5_5_x2_bn_2', 'conv5_5_x2_bn_3', 'conv5_5_x2_1', 'concat_5_5_1', 'conv5_6_x1_bn_1', 'OC2_DUMMY_196', 'conv5_6_x1_bn_internal_1', 'OC2_DUMMY_197', 'conv5_6_x1_bn_2', 'conv5_6_x1_bn_3', 'conv5_6_x1_1', 'conv5_6_x2_bn_1', 'OC2_DUMMY_198', 'conv5_6_x2_bn_internal_1', 'OC2_DUMMY_199', 'conv5_6_x2_bn_2', 'conv5_6_x2_bn_3', 'conv5_6_x2_1', 'concat_5_6_1', 'conv5_7_x1_bn_1', 'OC2_DUMMY_200', 'conv5_7_x1_bn_internal_1', 'OC2_DUMMY_201', 'conv5_7_x1_bn_2', 'conv5_7_x1_bn_3', 'conv5_7_x1_1', 'conv5_7_x2_bn_1', 'OC2_DUMMY_202', 'conv5_7_x2_bn_internal_1', 'OC2_DUMMY_203', 'conv5_7_x2_bn_2', 'conv5_7_x2_bn_3', 'conv5_7_x2_1', 'concat_5_7_1', 'conv5_8_x1_bn_1', 'OC2_DUMMY_204', 'conv5_8_x1_bn_internal_1', 'OC2_DUMMY_205', 'conv5_8_x1_bn_2', 'conv5_8_x1_bn_3', 'conv5_8_x1_1', 'conv5_8_x2_bn_1', 'OC2_DUMMY_206', 'conv5_8_x2_bn_internal_1', 'OC2_DUMMY_207', 'conv5_8_x2_bn_2', 'conv5_8_x2_bn_3', 'conv5_8_x2_1', 'concat_5_8_1', 'conv5_9_x1_bn_1', 'OC2_DUMMY_208', 'conv5_9_x1_bn_internal_1', 'OC2_DUMMY_209', 'conv5_9_x1_bn_2', 'conv5_9_x1_bn_3', 'conv5_9_x1_1', 'conv5_9_x2_bn_1', 'OC2_DUMMY_210', 'conv5_9_x2_bn_internal_1', 'OC2_DUMMY_211', 'conv5_9_x2_bn_2', 'conv5_9_x2_bn_3', 'conv5_9_x2_1', 'concat_5_9_1', 'conv5_10_x1_bn_1', 'OC2_DUMMY_212', 'conv5_10_x1_bn_internal_1', 'OC2_DUMMY_213', 'conv5_10_x1_bn_2', 'conv5_10_x1_bn_3', 'conv5_10_x1_1', 'conv5_10_x2_bn_1', 'OC2_DUMMY_214', 'conv5_10_x2_bn_internal_1', 'OC2_DUMMY_215', 'conv5_10_x2_bn_2', 'conv5_10_x2_bn_3', 'conv5_10_x2_1', 'concat_5_10_1', 'conv5_11_x1_bn_1', 'OC2_DUMMY_216', 'conv5_11_x1_bn_internal_1', 'OC2_DUMMY_217', 'conv5_11_x1_bn_2', 'conv5_11_x1_bn_3', 'conv5_11_x1_1', 'conv5_11_x2_bn_1', 'OC2_DUMMY_218', 'conv5_11_x2_bn_internal_1', 'OC2_DUMMY_219', 'conv5_11_x2_bn_2', 'conv5_11_x2_bn_3', 'conv5_11_x2_1', 'concat_5_11_1', 'conv5_12_x1_bn_1', 'OC2_DUMMY_220', 'conv5_12_x1_bn_internal_1', 'OC2_DUMMY_221', 'conv5_12_x1_bn_2', 'conv5_12_x1_bn_3', 'conv5_12_x1_1', 'conv5_12_x2_bn_1', 'OC2_DUMMY_222', 'conv5_12_x2_bn_internal_1', 'OC2_DUMMY_223', 'conv5_12_x2_bn_2', 'conv5_12_x2_bn_3', 'conv5_12_x2_1', 'concat_5_12_1', 'conv5_13_x1_bn_1', 'OC2_DUMMY_224', 'conv5_13_x1_bn_internal_1', 'OC2_DUMMY_225', 'conv5_13_x1_bn_2', 'conv5_13_x1_bn_3', 'conv5_13_x1_1', 'conv5_13_x2_bn_1', 'OC2_DUMMY_226', 'conv5_13_x2_bn_internal_1', 'OC2_DUMMY_227', 'conv5_13_x2_bn_2', 'conv5_13_x2_bn_3', 'conv5_13_x2_1', 'concat_5_13_1', 'conv5_14_x1_bn_1', 'OC2_DUMMY_228', 'conv5_14_x1_bn_internal_1', 'OC2_DUMMY_229', 'conv5_14_x1_bn_2', 'conv5_14_x1_bn_3', 'conv5_14_x1_1', 'conv5_14_x2_bn_1', 'OC2_DUMMY_230', 'conv5_14_x2_bn_internal_1', 'OC2_DUMMY_231', 'conv5_14_x2_bn_2', 'conv5_14_x2_bn_3', 'conv5_14_x2_1', 'concat_5_14_1', 'conv5_15_x1_bn_1', 'OC2_DUMMY_232', 'conv5_15_x1_bn_internal_1', 'OC2_DUMMY_233', 'conv5_15_x1_bn_2', 'conv5_15_x1_bn_3', 'conv5_15_x1_1', 'conv5_15_x2_bn_1', 'OC2_DUMMY_234', 'conv5_15_x2_bn_internal_1', 'OC2_DUMMY_235', 'conv5_15_x2_bn_2', 'conv5_15_x2_bn_3', 'conv5_15_x2_1', 'concat_5_15_1', 'conv5_16_x1_bn_1', 'OC2_DUMMY_236', 'conv5_16_x1_bn_internal_1', 'OC2_DUMMY_237', 'conv5_16_x1_bn_2', 'conv5_16_x1_bn_3', 'conv5_16_x1_1', 'conv5_16_x2_bn_1', 'OC2_DUMMY_238', 'conv5_16_x2_bn_internal_1', 'OC2_DUMMY_239', 'conv5_16_x2_bn_2', 'conv5_16_x2_bn_3', 'conv5_16_x2_1', 'concat_5_16_1', 'conv5_blk_bn_1', 'OC2_DUMMY_240', 'conv5_blk_bn_internal_1', 'OC2_DUMMY_241', 'conv5_blk_bn_2', 'conv5_blk_bn_3', 'pool5_1', 'fc6_1']}\n",
      "./2mapping.json.json saved.\n"
     ]
    }
   ],
   "source": [
    "node_list = []\n",
    "start_index = 0\n",
    "end_index = 0\n",
    "print ()\n",
    "for i in range(nodes_number):  \n",
    "    \n",
    "    start_index = end_index\n",
    "    end_index = min((int)(node_len/nodes_number+1)*(i+1) , node_len)\n",
    "    #print (start_index, end_index)\n",
    "    for j in range(start_index, end_index):\n",
    "        node_list.append(graph.node[j].name)\n",
    "    new_node_list = copy.copy(node_list)\n",
    "    mapping_dict['nx0'+str(i+1)]=new_node_list\n",
    "    node_list = []\n",
    "print (mapping_dict)\n",
    "save_json(mapping_dict,\"./\"+str(nodes_number)+\"mapping.json\")"
   ]
  }
 ],
 "metadata": {
  "kernelspec": {
   "display_name": "Python 3 (ipykernel)",
   "language": "python",
   "name": "python3"
  },
  "language_info": {
   "codemirror_mode": {
    "name": "ipython",
    "version": 3
   },
   "file_extension": ".py",
   "mimetype": "text/x-python",
   "name": "python",
   "nbconvert_exporter": "python",
   "pygments_lexer": "ipython3",
   "version": "3.9.6"
  }
 },
 "nbformat": 4,
 "nbformat_minor": 5
}
