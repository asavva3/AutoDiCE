{
 "cells": [
  {
   "cell_type": "code",
   "execution_count": 52,
   "id": "bb006550",
   "metadata": {},
   "outputs": [],
   "source": [
    "# -*- coding: UTF-8 -*- \n",
    "import onnx\n",
    "from onnx import helper, checker\n",
    "from onnx import TensorProto\n",
    "import re\n",
    "import argparse\n",
    "import json,copy\n",
    "import numpy as np\n",
    "from data_json import *\n",
    "from onnx_split import *"
   ]
  },
  {
   "cell_type": "code",
   "execution_count": 53,
   "id": "89f5ec81",
   "metadata": {},
   "outputs": [],
   "source": [
    "origin_model = '/home/sky/Downloads/bvlcalexnet-9.onnx'\n",
    "platform_file = './4platform.txt'\n"
   ]
  },
  {
   "cell_type": "code",
   "execution_count": 54,
   "id": "93ca940d",
   "metadata": {},
   "outputs": [
    {
     "name": "stdout",
     "output_type": "stream",
     "text": [
      "Check input model Errors:  None\n"
     ]
    }
   ],
   "source": [
    "graph = load_onnx(origin_model)"
   ]
  },
  {
   "cell_type": "code",
   "execution_count": 55,
   "id": "2147ef44",
   "metadata": {},
   "outputs": [
    {
     "name": "stdout",
     "output_type": "stream",
     "text": [
      "platform dict:  {'nx01': 0, 'nx02': 1, 'nx03': 2, 'nx04': 3}\n"
     ]
    }
   ],
   "source": [
    "with open(platform_file, 'r') as f:         \n",
    "        platform = f.readlines()\n",
    "        #print (platform)\n",
    "        for i in range(len(platform)):\n",
    "            temp = platform[i].split(':')[0]\n",
    "            platform[i] = temp.replace('\\n','')\n",
    "#print (platform)\n",
    "platform_num = len(platform)\n",
    "\n",
    "platform_dict={} \n",
    "######platform 对应id\n",
    "for i in range(platform_num):\n",
    "    platform_dict[platform[i]] = i\n",
    "    \n",
    "print (\"platform dict: \", platform_dict)\n"
   ]
  },
  {
   "cell_type": "code",
   "execution_count": 56,
   "id": "dd667f2c",
   "metadata": {},
   "outputs": [],
   "source": [
    "input_map = generate_node_dict(graph.input)  \n",
    "output_map = generate_node_dict(graph.output)\n",
    "initializer_map = generate_node_dict(graph.initializer)\n",
    "value_map = generate_node_dict(graph.value_info)       \n",
    "node_map = generate_node_dict(graph.node)\n"
   ]
  },
  {
   "cell_type": "code",
   "execution_count": 57,
   "id": "1364f18e",
   "metadata": {},
   "outputs": [],
   "source": [
    "node_len = len(list(node_map))\n",
    "mapping_dict ={}\n",
    "nodes_number = 2"
   ]
  },
  {
   "cell_type": "code",
   "execution_count": 58,
   "id": "b60f1163",
   "metadata": {},
   "outputs": [],
   "source": [
    "node_list = []\n",
    "start_index = 0\n",
    "end_index = 0\n",
    "\n",
    "for i in range(nodes_number):  \n",
    "    \n",
    "    start_index = end_index\n",
    "    end_index = min((int)(node_len/nodes_number)*(i+1) , node_len)\n",
    "    #print (start_index, end_index)\n",
    "    for j in range(start_index, end_index):\n",
    "        node_list.append(graph.node[j].name)\n",
    "    new_node_list = copy.copy(node_list)\n",
    "    mapping_dict['nx0'+str(i+1)]=new_node_list\n",
    "    node_list = []"
   ]
  },
  {
   "cell_type": "code",
   "execution_count": 51,
   "id": "192404b4",
   "metadata": {
    "scrolled": true
   },
   "outputs": [
    {
     "name": "stdout",
     "output_type": "stream",
     "text": [
      "{'nx01': ['conv1_1', 'conv1_2', 'norm1_1', 'pool1_1', 'conv2_1', 'conv2_2', 'norm2_1', 'pool2_1', 'conv3_1', 'conv3_2', 'conv4_1', 'conv4_2'], 'nx02': ['conv5_1', 'conv5_2', 'pool5_1', 'OC2_DUMMY_0', 'fc6_1', 'fc6_2', 'fc6_3', 'fc7_1', 'fc7_2', 'fc7_3', 'fc8_1', 'prob_1']}\n",
      "./2mapping.json.json saved.\n"
     ]
    }
   ],
   "source": [
    "print (mapping_dict)\n",
    "save_json(mapping_dict,\"./\"+str(nodes_number)+\"mapping.json\")"
   ]
  }
 ],
 "metadata": {
  "kernelspec": {
   "display_name": "Python 3 (ipykernel)",
   "language": "python",
   "name": "python3"
  },
  "language_info": {
   "codemirror_mode": {
    "name": "ipython",
    "version": 3
   },
   "file_extension": ".py",
   "mimetype": "text/x-python",
   "name": "python",
   "nbconvert_exporter": "python",
   "pygments_lexer": "ipython3",
   "version": "3.9.6"
  }
 },
 "nbformat": 4,
 "nbformat_minor": 5
}
