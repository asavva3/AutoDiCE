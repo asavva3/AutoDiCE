{
 "cells": [
  {
   "cell_type": "code",
   "execution_count": 1,
   "id": "bb006550",
   "metadata": {},
   "outputs": [],
   "source": [
    "# -*- coding: UTF-8 -*- \n",
    "import onnx\n",
    "from onnx import helper, checker\n",
    "from onnx import TensorProto\n",
    "import re\n",
    "import argparse\n",
    "import json,copy\n",
    "import numpy as np\n",
    "from data_json import *\n",
    "from onnx_split import *"
   ]
  },
  {
   "cell_type": "code",
   "execution_count": 30,
   "id": "89f5ec81",
   "metadata": {},
   "outputs": [],
   "source": [
    "origin_model = '/home/sky/Downloads/models/resnet50/resnet50-v2-7.onnx'\n",
    "#origin_model = '/home/sky/Downloads/models/alexnet/bvlcalexnet-9.onnx'\n",
    "platform_file = './4platform.txt'\n",
    "nodes_number = 2"
   ]
  },
  {
   "cell_type": "code",
   "execution_count": 32,
   "id": "2147ef44",
   "metadata": {},
   "outputs": [
    {
     "name": "stdout",
     "output_type": "stream",
     "text": [
      "Check input model Errors:  None\n",
      "platform dict:  {'nx01': 0, 'nx02': 1, 'nx03': 2, 'nx04': 3}\n"
     ]
    }
   ],
   "source": [
    "graph = load_onnx(origin_model)\n",
    "input_map = generate_node_dict(graph.input)  \n",
    "output_map = generate_node_dict(graph.output)\n",
    "initializer_map = generate_node_dict(graph.initializer)\n",
    "value_map = generate_node_dict(graph.value_info)       \n",
    "node_map = generate_node_dict(graph.node)\n",
    "with open(platform_file, 'r') as f:         \n",
    "        platform = f.readlines()\n",
    "        #print (platform)\n",
    "        for i in range(len(platform)):\n",
    "            temp = platform[i].split(':')[0]\n",
    "            platform[i] = temp.replace('\\n','')\n",
    "#print (platform)\n",
    "platform_num = len(platform)\n",
    "\n",
    "platform_dict={} \n",
    "######platform 对应id\n",
    "for i in range(platform_num):\n",
    "    platform_dict[platform[i]] = i\n",
    "    \n",
    "print (\"platform dict: \", platform_dict)\n",
    "node_len = len(list(node_map))\n",
    "mapping_dict ={}\n"
   ]
  },
  {
   "cell_type": "code",
   "execution_count": 33,
   "id": "b60f1163",
   "metadata": {},
   "outputs": [
    {
     "name": "stdout",
     "output_type": "stream",
     "text": [
      "{'nx01': ['resnetv24_batchnorm0_fwd', 'resnetv24_conv0_fwd', 'resnetv24_batchnorm1_fwd', 'resnetv24_relu0_fwd', 'resnetv24_pool0_fwd', 'resnetv24_stage1_batchnorm0_fwd', 'resnetv24_stage1_activation0', 'resnetv24_stage1_conv0_fwd', 'resnetv24_stage1_batchnorm1_fwd', 'resnetv24_stage1_activation1', 'resnetv24_stage1_conv1_fwd', 'resnetv24_stage1_batchnorm2_fwd', 'resnetv24_stage1_activation2', 'resnetv24_stage1_conv2_fwd', 'resnetv24_stage1_conv3_fwd', 'resnetv24_stage1__plus0', 'resnetv24_stage1_batchnorm3_fwd', 'resnetv24_stage1_activation3', 'resnetv24_stage1_conv4_fwd', 'resnetv24_stage1_batchnorm4_fwd', 'resnetv24_stage1_activation4', 'resnetv24_stage1_conv5_fwd', 'resnetv24_stage1_batchnorm5_fwd', 'resnetv24_stage1_activation5', 'resnetv24_stage1_conv6_fwd', 'resnetv24_stage1__plus1', 'resnetv24_stage1_batchnorm6_fwd', 'resnetv24_stage1_activation6', 'resnetv24_stage1_conv7_fwd', 'resnetv24_stage1_batchnorm7_fwd', 'resnetv24_stage1_activation7', 'resnetv24_stage1_conv8_fwd', 'resnetv24_stage1_batchnorm8_fwd', 'resnetv24_stage1_activation8', 'resnetv24_stage1_conv9_fwd', 'resnetv24_stage1__plus2', 'resnetv24_stage2_batchnorm0_fwd', 'resnetv24_stage2_activation0', 'resnetv24_stage2_conv0_fwd', 'resnetv24_stage2_batchnorm1_fwd', 'resnetv24_stage2_activation1', 'resnetv24_stage2_conv1_fwd', 'resnetv24_stage2_batchnorm2_fwd', 'resnetv24_stage2_activation2', 'resnetv24_stage2_conv2_fwd', 'resnetv24_stage2_conv3_fwd', 'resnetv24_stage2__plus0', 'resnetv24_stage2_batchnorm3_fwd', 'resnetv24_stage2_activation3', 'resnetv24_stage2_conv4_fwd', 'resnetv24_stage2_batchnorm4_fwd', 'resnetv24_stage2_activation4', 'resnetv24_stage2_conv5_fwd', 'resnetv24_stage2_batchnorm5_fwd', 'resnetv24_stage2_activation5', 'resnetv24_stage2_conv6_fwd', 'resnetv24_stage2__plus1', 'resnetv24_stage2_batchnorm6_fwd', 'resnetv24_stage2_activation6', 'resnetv24_stage2_conv7_fwd', 'resnetv24_stage2_batchnorm7_fwd', 'resnetv24_stage2_activation7', 'resnetv24_stage2_conv8_fwd', 'resnetv24_stage2_batchnorm8_fwd', 'resnetv24_stage2_activation8', 'resnetv24_stage2_conv9_fwd', 'resnetv24_stage2__plus2', 'resnetv24_stage2_batchnorm9_fwd', 'resnetv24_stage2_activation9', 'resnetv24_stage2_conv10_fwd', 'resnetv24_stage2_batchnorm10_fwd', 'resnetv24_stage2_activation10', 'resnetv24_stage2_conv11_fwd', 'resnetv24_stage2_batchnorm11_fwd', 'resnetv24_stage2_activation11', 'resnetv24_stage2_conv12_fwd', 'resnetv24_stage2__plus3', 'resnetv24_stage3_batchnorm0_fwd', 'resnetv24_stage3_activation0', 'resnetv24_stage3_conv0_fwd', 'resnetv24_stage3_batchnorm1_fwd', 'resnetv24_stage3_activation1', 'resnetv24_stage3_conv1_fwd', 'resnetv24_stage3_batchnorm2_fwd', 'resnetv24_stage3_activation2', 'resnetv24_stage3_conv2_fwd', 'resnetv24_stage3_conv3_fwd'], 'nx02': ['resnetv24_stage3__plus0', 'resnetv24_stage3_batchnorm3_fwd', 'resnetv24_stage3_activation3', 'resnetv24_stage3_conv4_fwd', 'resnetv24_stage3_batchnorm4_fwd', 'resnetv24_stage3_activation4', 'resnetv24_stage3_conv5_fwd', 'resnetv24_stage3_batchnorm5_fwd', 'resnetv24_stage3_activation5', 'resnetv24_stage3_conv6_fwd', 'resnetv24_stage3__plus1', 'resnetv24_stage3_batchnorm6_fwd', 'resnetv24_stage3_activation6', 'resnetv24_stage3_conv7_fwd', 'resnetv24_stage3_batchnorm7_fwd', 'resnetv24_stage3_activation7', 'resnetv24_stage3_conv8_fwd', 'resnetv24_stage3_batchnorm8_fwd', 'resnetv24_stage3_activation8', 'resnetv24_stage3_conv9_fwd', 'resnetv24_stage3__plus2', 'resnetv24_stage3_batchnorm9_fwd', 'resnetv24_stage3_activation9', 'resnetv24_stage3_conv10_fwd', 'resnetv24_stage3_batchnorm10_fwd', 'resnetv24_stage3_activation10', 'resnetv24_stage3_conv11_fwd', 'resnetv24_stage3_batchnorm11_fwd', 'resnetv24_stage3_activation11', 'resnetv24_stage3_conv12_fwd', 'resnetv24_stage3__plus3', 'resnetv24_stage3_batchnorm12_fwd', 'resnetv24_stage3_activation12', 'resnetv24_stage3_conv13_fwd', 'resnetv24_stage3_batchnorm13_fwd', 'resnetv24_stage3_activation13', 'resnetv24_stage3_conv14_fwd', 'resnetv24_stage3_batchnorm14_fwd', 'resnetv24_stage3_activation14', 'resnetv24_stage3_conv15_fwd', 'resnetv24_stage3__plus4', 'resnetv24_stage3_batchnorm15_fwd', 'resnetv24_stage3_activation15', 'resnetv24_stage3_conv16_fwd', 'resnetv24_stage3_batchnorm16_fwd', 'resnetv24_stage3_activation16', 'resnetv24_stage3_conv17_fwd', 'resnetv24_stage3_batchnorm17_fwd', 'resnetv24_stage3_activation17', 'resnetv24_stage3_conv18_fwd', 'resnetv24_stage3__plus5', 'resnetv24_stage4_batchnorm0_fwd', 'resnetv24_stage4_activation0', 'resnetv24_stage4_conv0_fwd', 'resnetv24_stage4_batchnorm1_fwd', 'resnetv24_stage4_activation1', 'resnetv24_stage4_conv1_fwd', 'resnetv24_stage4_batchnorm2_fwd', 'resnetv24_stage4_activation2', 'resnetv24_stage4_conv2_fwd', 'resnetv24_stage4_conv3_fwd', 'resnetv24_stage4__plus0', 'resnetv24_stage4_batchnorm3_fwd', 'resnetv24_stage4_activation3', 'resnetv24_stage4_conv4_fwd', 'resnetv24_stage4_batchnorm4_fwd', 'resnetv24_stage4_activation4', 'resnetv24_stage4_conv5_fwd', 'resnetv24_stage4_batchnorm5_fwd', 'resnetv24_stage4_activation5', 'resnetv24_stage4_conv6_fwd', 'resnetv24_stage4__plus1', 'resnetv24_stage4_batchnorm6_fwd', 'resnetv24_stage4_activation6', 'resnetv24_stage4_conv7_fwd', 'resnetv24_stage4_batchnorm7_fwd', 'resnetv24_stage4_activation7', 'resnetv24_stage4_conv8_fwd', 'resnetv24_stage4_batchnorm8_fwd', 'resnetv24_stage4_activation8', 'resnetv24_stage4_conv9_fwd', 'resnetv24_stage4__plus2', 'resnetv24_batchnorm2_fwd', 'resnetv24_relu1_fwd', 'resnetv24_pool1_fwd', 'resnetv24_flatten0_reshape0', 'resnetv24_dense0_fwd']}\n",
      "./2mapping.json.json saved.\n"
     ]
    }
   ],
   "source": [
    "node_list = []\n",
    "start_index = 0\n",
    "end_index = 0\n",
    "\n",
    "for i in range(nodes_number):  \n",
    "    \n",
    "    start_index = end_index\n",
    "    end_index = min((int)(node_len/nodes_number)*(i+1) , node_len)\n",
    "    #print (start_index, end_index)\n",
    "    for j in range(start_index, end_index):\n",
    "        node_list.append(graph.node[j].name)\n",
    "    new_node_list = copy.copy(node_list)\n",
    "    mapping_dict['nx0'+str(i+1)]=new_node_list\n",
    "    node_list = []\n",
    "print (mapping_dict)\n",
    "save_json(mapping_dict,\"./\"+str(nodes_number)+\"mapping.json\")"
   ]
  }
 ],
 "metadata": {
  "kernelspec": {
   "display_name": "Python 3 (ipykernel)",
   "language": "python",
   "name": "python3"
  },
  "language_info": {
   "codemirror_mode": {
    "name": "ipython",
    "version": 3
   },
   "file_extension": ".py",
   "mimetype": "text/x-python",
   "name": "python",
   "nbconvert_exporter": "python",
   "pygments_lexer": "ipython3",
   "version": "3.9.6"
  }
 },
 "nbformat": 4,
 "nbformat_minor": 5
}
